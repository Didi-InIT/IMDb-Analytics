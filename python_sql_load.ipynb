{
 "cells": [
  {
   "cell_type": "code",
   "execution_count": 1,
   "id": "c92a90bb",
   "metadata": {},
   "outputs": [],
   "source": [
    "import pandas as pd"
   ]
  },
  {
   "cell_type": "code",
   "execution_count": 2,
   "id": "23be45db",
   "metadata": {},
   "outputs": [],
   "source": [
    "df_name_basics = pd.read_csv(r\"C:\\Users\\diogo\\OneDrive\\Ambiente de Trabalho\\GIT projects\\IMDb\\archive\\name.basics.tsv\", sep=\"\\t\", na_values=[\"\\\\N\"])   "
   ]
  },
  {
   "cell_type": "code",
   "execution_count": 3,
   "id": "990b2e53",
   "metadata": {},
   "outputs": [
    {
     "data": {
      "application/vnd.microsoft.datawrangler.viewer.v0+json": {
       "columns": [
        {
         "name": "index",
         "rawType": "int64",
         "type": "integer"
        },
        {
         "name": "nconst",
         "rawType": "object",
         "type": "string"
        },
        {
         "name": "primaryName",
         "rawType": "object",
         "type": "string"
        },
        {
         "name": "birthYear",
         "rawType": "float64",
         "type": "float"
        },
        {
         "name": "deathYear",
         "rawType": "float64",
         "type": "float"
        },
        {
         "name": "primaryProfession",
         "rawType": "object",
         "type": "string"
        },
        {
         "name": "knownForTitles",
         "rawType": "object",
         "type": "string"
        }
       ],
       "ref": "9cd58f6f-5250-46c2-a63c-d21dd9e1de51",
       "rows": [
        [
         "3936044",
         "nm13204540",
         "Anthony 'Tony\" James",
         null,
         null,
         "director,editor,producer",
         "tt22769152,tt21834478,tt6277422,tt36175910"
        ]
       ],
       "shape": {
        "columns": 6,
        "rows": 1
       }
      },
      "text/html": [
       "<div>\n",
       "<style scoped>\n",
       "    .dataframe tbody tr th:only-of-type {\n",
       "        vertical-align: middle;\n",
       "    }\n",
       "\n",
       "    .dataframe tbody tr th {\n",
       "        vertical-align: top;\n",
       "    }\n",
       "\n",
       "    .dataframe thead th {\n",
       "        text-align: right;\n",
       "    }\n",
       "</style>\n",
       "<table border=\"1\" class=\"dataframe\">\n",
       "  <thead>\n",
       "    <tr style=\"text-align: right;\">\n",
       "      <th></th>\n",
       "      <th>nconst</th>\n",
       "      <th>primaryName</th>\n",
       "      <th>birthYear</th>\n",
       "      <th>deathYear</th>\n",
       "      <th>primaryProfession</th>\n",
       "      <th>knownForTitles</th>\n",
       "    </tr>\n",
       "  </thead>\n",
       "  <tbody>\n",
       "    <tr>\n",
       "      <th>3936044</th>\n",
       "      <td>nm13204540</td>\n",
       "      <td>Anthony 'Tony\" James</td>\n",
       "      <td>NaN</td>\n",
       "      <td>NaN</td>\n",
       "      <td>director,editor,producer</td>\n",
       "      <td>tt22769152,tt21834478,tt6277422,tt36175910</td>\n",
       "    </tr>\n",
       "  </tbody>\n",
       "</table>\n",
       "</div>"
      ],
      "text/plain": [
       "             nconst           primaryName  birthYear  deathYear  \\\n",
       "3936044  nm13204540  Anthony 'Tony\" James        NaN        NaN   \n",
       "\n",
       "                primaryProfession                              knownForTitles  \n",
       "3936044  director,editor,producer  tt22769152,tt21834478,tt6277422,tt36175910  "
      ]
     },
     "execution_count": 3,
     "metadata": {},
     "output_type": "execute_result"
    }
   ],
   "source": [
    "df_name_basics[df_name_basics[\"nconst\"] == \"nm13204540\"]"
   ]
  },
  {
   "cell_type": "code",
   "execution_count": 4,
   "id": "567388d7",
   "metadata": {},
   "outputs": [
    {
     "data": {
      "application/vnd.microsoft.datawrangler.viewer.v0+json": {
       "columns": [
        {
         "name": "index",
         "rawType": "object",
         "type": "string"
        },
        {
         "name": "3936044",
         "rawType": "object",
         "type": "unknown"
        }
       ],
       "ref": "b0194c3b-7d51-4ad2-b57f-649d5d599c63",
       "rows": [
        [
         "nconst",
         "nm13204540"
        ],
        [
         "primaryName",
         "Anthony 'Tony\" James"
        ],
        [
         "birthYear",
         null
        ],
        [
         "deathYear",
         null
        ],
        [
         "primaryProfession",
         "director,editor,producer"
        ],
        [
         "knownForTitles",
         "tt22769152,tt21834478,tt6277422,tt36175910"
        ]
       ],
       "shape": {
        "columns": 1,
        "rows": 6
       }
      },
      "text/plain": [
       "nconst                                               nm13204540\n",
       "primaryName                                Anthony 'Tony\" James\n",
       "birthYear                                                   NaN\n",
       "deathYear                                                   NaN\n",
       "primaryProfession                      director,editor,producer\n",
       "knownForTitles       tt22769152,tt21834478,tt6277422,tt36175910\n",
       "Name: 3936044, dtype: object"
      ]
     },
     "execution_count": 4,
     "metadata": {},
     "output_type": "execute_result"
    }
   ],
   "source": [
    "df_name_basics.iloc[3936044,:]"
   ]
  },
  {
   "cell_type": "code",
   "execution_count": 5,
   "id": "2871a6fc",
   "metadata": {},
   "outputs": [
    {
     "data": {
      "application/vnd.microsoft.datawrangler.viewer.v0+json": {
       "columns": [
        {
         "name": "index",
         "rawType": "object",
         "type": "string"
        },
        {
         "name": "0",
         "rawType": "object",
         "type": "unknown"
        }
       ],
       "ref": "abe30515-3cba-44df-bc35-6c0a32dd3f8c",
       "rows": [
        [
         "nconst",
         "object"
        ],
        [
         "primaryName",
         "object"
        ],
        [
         "birthYear",
         "float64"
        ],
        [
         "deathYear",
         "float64"
        ],
        [
         "primaryProfession",
         "object"
        ],
        [
         "knownForTitles",
         "object"
        ]
       ],
       "shape": {
        "columns": 1,
        "rows": 6
       }
      },
      "text/plain": [
       "nconst                object\n",
       "primaryName           object\n",
       "birthYear            float64\n",
       "deathYear            float64\n",
       "primaryProfession     object\n",
       "knownForTitles        object\n",
       "dtype: object"
      ]
     },
     "execution_count": 5,
     "metadata": {},
     "output_type": "execute_result"
    }
   ],
   "source": [
    "df_name_basics.dtypes"
   ]
  },
  {
   "cell_type": "code",
   "execution_count": 6,
   "id": "7280b806",
   "metadata": {},
   "outputs": [],
   "source": [
    "df_name_basics = df_name_basics.apply(lambda x: x.str.replace('\"', '').str.replace(\"'\", '') if x.dtype == \"object\" else x)"
   ]
  },
  {
   "cell_type": "code",
   "execution_count": 9,
   "id": "7255b437",
   "metadata": {},
   "outputs": [],
   "source": [
    "from sqlalchemy import create_engine\n",
    "from sqlalchemy import text\n",
    "import pandas as pd\n",
    "import os\n",
    "\n",
    "# 📌 Definir parâmetros de conexão ao PostgreSQL\n",
    "DB_USER = \"postgres\"\n",
    "DB_PASSWORD = os.getenv(\"PG_PASSWORD\")  # Recomenda-se usar variável de ambiente!\n",
    "DB_HOST = \"localhost\"\n",
    "DB_PORT = \"5434\"\n",
    "DB_NAME = \"IMDb\"\n",
    "\n",
    "# 🔗 Criar conexão com PostgreSQL via SQLAlchemy\n",
    "engine = create_engine(f\"postgresql://{DB_USER}:{DB_PASSWORD}@{DB_HOST}:{DB_PORT}/{DB_NAME}\")"
   ]
  },
  {
   "cell_type": "code",
   "execution_count": null,
   "id": "76942e92",
   "metadata": {},
   "outputs": [
    {
     "name": "stdout",
     "output_type": "stream",
     "text": [
      "birthYear\n"
     ]
    }
   ],
   "source": [
    "# Query de teste para verificar a conexão\n",
    "\n",
    "conn = engine.connect()\n",
    "\n",
    "query = text(\"SELECT column_name, data_type FROM information_schema.columns WHERE table_name = 'name_basics';\")\n",
    "result = conn.execute(query)\n",
    "\n",
    "print(result.scalar())\n",
    "\n",
    "conn.close()"
   ]
  },
  {
   "cell_type": "code",
   "execution_count": null,
   "id": "c53f42f8",
   "metadata": {},
   "outputs": [
    {
     "ename": "ResourceClosedError",
     "evalue": "This result object does not return rows. It has been closed automatically.",
     "output_type": "error",
     "traceback": [
      "\u001b[1;31m---------------------------------------------------------------------------\u001b[0m",
      "\u001b[1;31mResourceClosedError\u001b[0m                       Traceback (most recent call last)",
      "Cell \u001b[1;32mIn[19], line 8\u001b[0m\n\u001b[0;32m      5\u001b[0m query \u001b[38;5;241m=\u001b[39m text(\u001b[38;5;124m\"\u001b[39m\u001b[38;5;124mCreate table if not exists test (doc_id integer primary key not null, doc_text varchar)\u001b[39m\u001b[38;5;124m\"\u001b[39m)\n\u001b[0;32m      6\u001b[0m result \u001b[38;5;241m=\u001b[39m conn\u001b[38;5;241m.\u001b[39mexecute(query)\n\u001b[1;32m----> 8\u001b[0m \u001b[38;5;28mprint\u001b[39m(\u001b[43mresult\u001b[49m\u001b[38;5;241;43m.\u001b[39;49m\u001b[43mscalar\u001b[49m\u001b[43m(\u001b[49m\u001b[43m)\u001b[49m)\n\u001b[0;32m     10\u001b[0m conn\u001b[38;5;241m.\u001b[39mclose()\n",
      "File \u001b[1;32mc:\\Users\\diogo\\AppData\\Local\\Programs\\Python\\Python313\\Lib\\site-packages\\sqlalchemy\\engine\\result.py:1549\u001b[0m, in \u001b[0;36mResult.scalar\u001b[1;34m(self)\u001b[0m\n\u001b[0;32m   1535\u001b[0m \u001b[38;5;28;01mdef\u001b[39;00m \u001b[38;5;21mscalar\u001b[39m(\u001b[38;5;28mself\u001b[39m) \u001b[38;5;241m-\u001b[39m\u001b[38;5;241m>\u001b[39m Any:\n\u001b[0;32m   1536\u001b[0m \u001b[38;5;250m    \u001b[39m\u001b[38;5;124;03m\"\"\"Fetch the first column of the first row, and close the result set.\u001b[39;00m\n\u001b[0;32m   1537\u001b[0m \n\u001b[0;32m   1538\u001b[0m \u001b[38;5;124;03m    Returns ``None`` if there are no rows to fetch.\u001b[39;00m\n\u001b[1;32m   (...)\u001b[0m\n\u001b[0;32m   1547\u001b[0m \n\u001b[0;32m   1548\u001b[0m \u001b[38;5;124;03m    \"\"\"\u001b[39;00m\n\u001b[1;32m-> 1549\u001b[0m     \u001b[38;5;28;01mreturn\u001b[39;00m \u001b[38;5;28;43mself\u001b[39;49m\u001b[38;5;241;43m.\u001b[39;49m\u001b[43m_only_one_row\u001b[49m\u001b[43m(\u001b[49m\n\u001b[0;32m   1550\u001b[0m \u001b[43m        \u001b[49m\u001b[43mraise_for_second_row\u001b[49m\u001b[38;5;241;43m=\u001b[39;49m\u001b[38;5;28;43;01mFalse\u001b[39;49;00m\u001b[43m,\u001b[49m\u001b[43m \u001b[49m\u001b[43mraise_for_none\u001b[49m\u001b[38;5;241;43m=\u001b[39;49m\u001b[38;5;28;43;01mFalse\u001b[39;49;00m\u001b[43m,\u001b[49m\u001b[43m \u001b[49m\u001b[43mscalar\u001b[49m\u001b[38;5;241;43m=\u001b[39;49m\u001b[38;5;28;43;01mTrue\u001b[39;49;00m\n\u001b[0;32m   1551\u001b[0m \u001b[43m    \u001b[49m\u001b[43m)\u001b[49m\n",
      "File \u001b[1;32mc:\\Users\\diogo\\AppData\\Local\\Programs\\Python\\Python313\\Lib\\site-packages\\sqlalchemy\\engine\\result.py:757\u001b[0m, in \u001b[0;36mResultInternal._only_one_row\u001b[1;34m(self, raise_for_second_row, raise_for_none, scalar)\u001b[0m\n\u001b[0;32m    749\u001b[0m \u001b[38;5;28;01mdef\u001b[39;00m \u001b[38;5;21m_only_one_row\u001b[39m(\n\u001b[0;32m    750\u001b[0m     \u001b[38;5;28mself\u001b[39m,\n\u001b[0;32m    751\u001b[0m     raise_for_second_row: \u001b[38;5;28mbool\u001b[39m,\n\u001b[0;32m    752\u001b[0m     raise_for_none: \u001b[38;5;28mbool\u001b[39m,\n\u001b[0;32m    753\u001b[0m     scalar: \u001b[38;5;28mbool\u001b[39m,\n\u001b[0;32m    754\u001b[0m ) \u001b[38;5;241m-\u001b[39m\u001b[38;5;241m>\u001b[39m Optional[_R]:\n\u001b[0;32m    755\u001b[0m     onerow \u001b[38;5;241m=\u001b[39m \u001b[38;5;28mself\u001b[39m\u001b[38;5;241m.\u001b[39m_fetchone_impl\n\u001b[1;32m--> 757\u001b[0m     row: Optional[_InterimRowType[Any]] \u001b[38;5;241m=\u001b[39m \u001b[43monerow\u001b[49m\u001b[43m(\u001b[49m\u001b[43mhard_close\u001b[49m\u001b[38;5;241;43m=\u001b[39;49m\u001b[38;5;28;43;01mTrue\u001b[39;49;00m\u001b[43m)\u001b[49m\n\u001b[0;32m    758\u001b[0m     \u001b[38;5;28;01mif\u001b[39;00m row \u001b[38;5;129;01mis\u001b[39;00m \u001b[38;5;28;01mNone\u001b[39;00m:\n\u001b[0;32m    759\u001b[0m         \u001b[38;5;28;01mif\u001b[39;00m raise_for_none:\n",
      "File \u001b[1;32mc:\\Users\\diogo\\AppData\\Local\\Programs\\Python\\Python313\\Lib\\site-packages\\sqlalchemy\\engine\\cursor.py:2132\u001b[0m, in \u001b[0;36mCursorResult._fetchone_impl\u001b[1;34m(self, hard_close)\u001b[0m\n\u001b[0;32m   2131\u001b[0m \u001b[38;5;28;01mdef\u001b[39;00m \u001b[38;5;21m_fetchone_impl\u001b[39m(\u001b[38;5;28mself\u001b[39m, hard_close\u001b[38;5;241m=\u001b[39m\u001b[38;5;28;01mFalse\u001b[39;00m):\n\u001b[1;32m-> 2132\u001b[0m     \u001b[38;5;28;01mreturn\u001b[39;00m \u001b[38;5;28;43mself\u001b[39;49m\u001b[38;5;241;43m.\u001b[39;49m\u001b[43mcursor_strategy\u001b[49m\u001b[38;5;241;43m.\u001b[39;49m\u001b[43mfetchone\u001b[49m\u001b[43m(\u001b[49m\u001b[38;5;28;43mself\u001b[39;49m\u001b[43m,\u001b[49m\u001b[43m \u001b[49m\u001b[38;5;28;43mself\u001b[39;49m\u001b[38;5;241;43m.\u001b[39;49m\u001b[43mcursor\u001b[49m\u001b[43m,\u001b[49m\u001b[43m \u001b[49m\u001b[43mhard_close\u001b[49m\u001b[43m)\u001b[49m\n",
      "File \u001b[1;32mc:\\Users\\diogo\\AppData\\Local\\Programs\\Python\\Python313\\Lib\\site-packages\\sqlalchemy\\engine\\cursor.py:1000\u001b[0m, in \u001b[0;36mNoCursorFetchStrategy.fetchone\u001b[1;34m(self, result, dbapi_cursor, hard_close)\u001b[0m\n\u001b[0;32m    999\u001b[0m \u001b[38;5;28;01mdef\u001b[39;00m \u001b[38;5;21mfetchone\u001b[39m(\u001b[38;5;28mself\u001b[39m, result, dbapi_cursor, hard_close\u001b[38;5;241m=\u001b[39m\u001b[38;5;28;01mFalse\u001b[39;00m):\n\u001b[1;32m-> 1000\u001b[0m     \u001b[38;5;28;01mreturn\u001b[39;00m \u001b[38;5;28;43mself\u001b[39;49m\u001b[38;5;241;43m.\u001b[39;49m\u001b[43m_non_result\u001b[49m\u001b[43m(\u001b[49m\u001b[43mresult\u001b[49m\u001b[43m,\u001b[49m\u001b[43m \u001b[49m\u001b[38;5;28;43;01mNone\u001b[39;49;00m\u001b[43m)\u001b[49m\n",
      "File \u001b[1;32mc:\\Users\\diogo\\AppData\\Local\\Programs\\Python\\Python313\\Lib\\site-packages\\sqlalchemy\\engine\\cursor.py:1050\u001b[0m, in \u001b[0;36mNoCursorDMLFetchStrategy._non_result\u001b[1;34m(self, result, default, err)\u001b[0m\n\u001b[0;32m   1047\u001b[0m \u001b[38;5;28;01mdef\u001b[39;00m \u001b[38;5;21m_non_result\u001b[39m(\u001b[38;5;28mself\u001b[39m, result, default, err\u001b[38;5;241m=\u001b[39m\u001b[38;5;28;01mNone\u001b[39;00m):\n\u001b[0;32m   1048\u001b[0m     \u001b[38;5;66;03m# we only expect to have a _NoResultMetaData() here right now.\u001b[39;00m\n\u001b[0;32m   1049\u001b[0m     \u001b[38;5;28;01massert\u001b[39;00m \u001b[38;5;129;01mnot\u001b[39;00m result\u001b[38;5;241m.\u001b[39m_metadata\u001b[38;5;241m.\u001b[39mreturns_rows\n\u001b[1;32m-> 1050\u001b[0m     \u001b[43mresult\u001b[49m\u001b[38;5;241;43m.\u001b[39;49m\u001b[43m_metadata\u001b[49m\u001b[38;5;241;43m.\u001b[39;49m\u001b[43m_we_dont_return_rows\u001b[49m\u001b[43m(\u001b[49m\u001b[43merr\u001b[49m\u001b[43m)\u001b[49m\n",
      "File \u001b[1;32mc:\\Users\\diogo\\AppData\\Local\\Programs\\Python\\Python313\\Lib\\site-packages\\sqlalchemy\\engine\\cursor.py:1346\u001b[0m, in \u001b[0;36m_NoResultMetaData._we_dont_return_rows\u001b[1;34m(self, err)\u001b[0m\n\u001b[0;32m   1345\u001b[0m \u001b[38;5;28;01mdef\u001b[39;00m \u001b[38;5;21m_we_dont_return_rows\u001b[39m(\u001b[38;5;28mself\u001b[39m, err\u001b[38;5;241m=\u001b[39m\u001b[38;5;28;01mNone\u001b[39;00m):\n\u001b[1;32m-> 1346\u001b[0m     \u001b[38;5;28;01mraise\u001b[39;00m exc\u001b[38;5;241m.\u001b[39mResourceClosedError(\n\u001b[0;32m   1347\u001b[0m         \u001b[38;5;124m\"\u001b[39m\u001b[38;5;124mThis result object does not return rows. \u001b[39m\u001b[38;5;124m\"\u001b[39m\n\u001b[0;32m   1348\u001b[0m         \u001b[38;5;124m\"\u001b[39m\u001b[38;5;124mIt has been closed automatically.\u001b[39m\u001b[38;5;124m\"\u001b[39m\n\u001b[0;32m   1349\u001b[0m     ) \u001b[38;5;28;01mfrom\u001b[39;00m \u001b[38;5;21;01merr\u001b[39;00m\n",
      "\u001b[1;31mResourceClosedError\u001b[0m: This result object does not return rows. It has been closed automatically."
     ]
    }
   ],
   "source": [
    "# Query de teste só para fazer um create table\n",
    "\n",
    "conn = engine.connect()\n",
    "\n",
    "query = text(\"Create table if not exists test (doc_id integer primary key not null, doc_text varchar)\")\n",
    "result = conn.execute(query)\n",
    "\n",
    "conn.execute(query)\n",
    "conn.commit()\n",
    "\n",
    "conn.close()"
   ]
  },
  {
   "cell_type": "code",
   "execution_count": null,
   "id": "b0f33403",
   "metadata": {},
   "outputs": [],
   "source": [
    "# Next dataframe\n",
    "\n",
    "df_title_akas = pd.read_csv(r\"C:\\Users\\diogo\\OneDrive\\Ambiente de Trabalho\\GIT projects\\IMDb\\archive\\title.akas.tsv\", sep=\"\\t\", na_values=[\"\\\\N\"])   \n",
    "df_title_akas = df_title_akas.apply(lambda x: x.str.replace('\"', '').str.replace(\"'\", '') if x.dtype == \"object\" else x)\n",
    "\n"
   ]
  }
 ],
 "metadata": {
  "kernelspec": {
   "display_name": "Python 3",
   "language": "python",
   "name": "python3"
  },
  "language_info": {
   "codemirror_mode": {
    "name": "ipython",
    "version": 3
   },
   "file_extension": ".py",
   "mimetype": "text/x-python",
   "name": "python",
   "nbconvert_exporter": "python",
   "pygments_lexer": "ipython3",
   "version": "3.13.1"
  }
 },
 "nbformat": 4,
 "nbformat_minor": 5
}
