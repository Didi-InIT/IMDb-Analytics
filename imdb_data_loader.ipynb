{
 "cells": [
  {
   "cell_type": "markdown",
   "id": "7a4d0f72",
   "metadata": {},
   "source": [
    "# IMDb Dataset Loader\n",
    "Script to load IMDb TSV datasets into PostgreSQL database"
   ]
  },
  {
   "cell_type": "code",
   "execution_count": 1,
   "id": "c92a90bb",
   "metadata": {},
   "outputs": [],
   "source": [
    "import os\n",
    "import psycopg2"
   ]
  },
  {
   "cell_type": "code",
   "execution_count": null,
   "id": "bb8dda47",
   "metadata": {},
   "outputs": [],
   "source": [
    "def getenv_required(key: str) -> str:\n",
    "    v = os.getenv(key)\n",
    "    if not v:\n",
    "        raise RuntimeError(f\"Missing environment variable: {key}\")\n",
    "    return v\n",
    "\n",
    "PGHOST     = getenv_required(\"PGHOST\")\n",
    "PGPORT     = int(getenv_required(\"PGPORT\"))      # int conversion\n",
    "PGDATABASE = getenv_required(\"PGDATABASE\")\n",
    "PGUSER     = getenv_required(\"PGUSER\")\n",
    "PGPASSWORD = getenv_required(\"PGPASSWORD\")\n",
    "\n",
    "try:\n",
    "    conn = psycopg2.connect(\n",
    "        host=PGHOST,\n",
    "        port=PGPORT,\n",
    "        dbname=PGDATABASE,\n",
    "        user=PGUSER,\n",
    "        password=PGPASSWORD,\n",
    "    )\n",
    "    conn.autocommit = True  \n",
    "except psycopg2.Error as e:\n",
    "    print(f\"Database connection failed: {e}\")\n",
    "    raise"
   ]
  },
  {
   "cell_type": "markdown",
   "id": "2321e833",
   "metadata": {},
   "source": [
    "## Table name_basics"
   ]
  },
  {
   "cell_type": "markdown",
   "id": "dd115041",
   "metadata": {},
   "source": [
    "### Create Table"
   ]
  },
  {
   "cell_type": "code",
   "execution_count": 3,
   "id": "f239719f",
   "metadata": {},
   "outputs": [],
   "source": [
    "def create_name_basics_table(conn):\n",
    "    with conn.cursor() as cur:\n",
    "        # Drop existing table\n",
    "        cur.execute(\"\"\"\n",
    "        DROP TABLE IF EXISTS public.name_basics;\n",
    "        \"\"\")\n",
    "        \n",
    "        # Create new table\n",
    "        cur.execute(\"\"\"\n",
    "        CREATE TABLE public.name_basics (\n",
    "            nconst VARCHAR(10) PRIMARY KEY,\n",
    "            primaryname VARCHAR(255),\n",
    "            birthyear INTEGER,\n",
    "            deathyear INTEGER,\n",
    "            primaryprofession TEXT,\n",
    "            knownfortitles TEXT\n",
    "        );\n",
    "        \"\"\")\n",
    "    \n",
    "create_name_basics_table(conn)"
   ]
  },
  {
   "cell_type": "markdown",
   "id": "eec571ba",
   "metadata": {},
   "source": [
    "### Load data"
   ]
  },
  {
   "cell_type": "code",
   "execution_count": 4,
   "id": "7bb62595",
   "metadata": {},
   "outputs": [],
   "source": [
    "copy_sql = r\"\"\"\n",
    "COPY public.name_basics (nconst, primaryname, birthyear, deathyear, primaryprofession, knownfortitles)\n",
    "FROM STDIN\n",
    "WITH (\n",
    "  FORMAT CSV,           \n",
    "  DELIMITER E'\\t',      \n",
    "  NULL '\\N',           \n",
    "  HEADER TRUE,           \n",
    "  QUOTE E'\\b'          -- Using backspace as quote character (\\b) effectively disables quote parsing \n",
    "                       -- since backspace never appears in the data. This prevents errors with \n",
    "                       -- unescaped quotes (\") in text fields\n",
    ");\n",
    "\"\"\"\n",
    "\n",
    "with conn.cursor() as cur, open(r\"C:\\GIT projects\\IMDb\\archive\\name.basics.tsv\", \"r\", encoding=\"utf-8\", errors=\"replace\") as f:\n",
    "    cur.copy_expert(copy_sql, f)"
   ]
  },
  {
   "cell_type": "markdown",
   "id": "2b531579",
   "metadata": {},
   "source": [
    "## Table title_akas"
   ]
  },
  {
   "cell_type": "markdown",
   "id": "12b15316",
   "metadata": {},
   "source": [
    "### Create Table"
   ]
  },
  {
   "cell_type": "code",
   "execution_count": 5,
   "id": "37723efc",
   "metadata": {},
   "outputs": [],
   "source": [
    "def create_title_akas_table(conn):\n",
    "    with conn.cursor() as cur:\n",
    "        # Drop existing table\n",
    "        cur.execute(\"\"\"\n",
    "        DROP TABLE IF EXISTS public.title_akas;\n",
    "        \"\"\")\n",
    "        \n",
    "        # Create new table\n",
    "        cur.execute(\"\"\"\n",
    "        CREATE TABLE public.title_akas (\n",
    "            titleid VARCHAR(10),\n",
    "            ordering INTEGER,\n",
    "            title VARCHAR(1024),\n",
    "            region VARCHAR(4),\n",
    "            language VARCHAR(4),\n",
    "            types VARCHAR(128),\n",
    "            attributes VARCHAR(1024),\n",
    "            isoriginaltitle BOOLEAN,\n",
    "            PRIMARY KEY (titleid, ordering)\n",
    "        );\n",
    "        \"\"\")\n",
    "\n",
    "create_title_akas_table(conn)"
   ]
  },
  {
   "cell_type": "markdown",
   "id": "a58e1b09",
   "metadata": {},
   "source": [
    "### Load data"
   ]
  },
  {
   "cell_type": "code",
   "execution_count": 6,
   "id": "c9f5c884",
   "metadata": {},
   "outputs": [],
   "source": [
    "copy_sql = r\"\"\"\n",
    "COPY public.title_akas (titleid, ordering, title, region, language, types, attributes, isoriginaltitle)\n",
    "FROM STDIN\n",
    "WITH (\n",
    "  FORMAT CSV,           \n",
    "  DELIMITER E'\\t',    \n",
    "  NULL '\\N',            \n",
    "  HEADER TRUE,            \n",
    "  QUOTE E'\\b'            -- See explanation in name_basics COPY command\n",
    ");\n",
    "\"\"\"\n",
    "\n",
    "with conn.cursor() as cur, open(r\"C:\\GIT projects\\IMDb\\archive\\title.akas.tsv\", \"r\", encoding=\"utf-8\", errors=\"replace\") as f:\n",
    "    cur.copy_expert(copy_sql, f)"
   ]
  },
  {
   "cell_type": "markdown",
   "id": "5162d995",
   "metadata": {},
   "source": [
    "## Table title_basics"
   ]
  },
  {
   "cell_type": "markdown",
   "id": "5d22bf88",
   "metadata": {},
   "source": [
    "### Create Table"
   ]
  },
  {
   "cell_type": "code",
   "execution_count": 7,
   "id": "9e9a3571",
   "metadata": {},
   "outputs": [],
   "source": [
    "def create_title_basics_table(conn):\n",
    "    with conn.cursor() as cur:\n",
    "        # Drop existing table\n",
    "        cur.execute(\"\"\"\n",
    "        DROP TABLE IF EXISTS public.title_basics;\n",
    "        \"\"\")\n",
    "        \n",
    "        # Create new table\n",
    "        cur.execute(\"\"\"\n",
    "        CREATE TABLE public.title_basics (\n",
    "            tconst VARCHAR(10) PRIMARY KEY,\n",
    "            titletype VARCHAR(20),\n",
    "            primarytitle VARCHAR(1024),\n",
    "            originaltitle VARCHAR(1024),\n",
    "            isadult BOOLEAN,\n",
    "            startyear INTEGER,\n",
    "            endyear INTEGER,\n",
    "            runtimeminutes INTEGER,\n",
    "            genres TEXT\n",
    "        );\n",
    "        \"\"\")\n",
    "\n",
    "create_title_basics_table(conn)"
   ]
  },
  {
   "cell_type": "markdown",
   "id": "14cec04f",
   "metadata": {},
   "source": [
    "### Load data"
   ]
  },
  {
   "cell_type": "code",
   "execution_count": 8,
   "id": "152f33d2",
   "metadata": {},
   "outputs": [],
   "source": [
    "copy_sql = r\"\"\"\n",
    "COPY public.title_basics (tconst, titletype, primarytitle, originaltitle, isadult, \n",
    "                         startyear, endyear, runtimeminutes, genres)\n",
    "FROM STDIN\n",
    "WITH (\n",
    "    FORMAT CSV,         \n",
    "    DELIMITER E'\\t',     \n",
    "    NULL '\\N',            \n",
    "    HEADER TRUE,          \n",
    "    QUOTE E'\\b'           -- See explanation in name_basics COPY command\n",
    ");\n",
    "\"\"\"\n",
    "\n",
    "with conn.cursor() as cur, open(r\"C:\\GIT projects\\IMDb\\archive\\title.basics.tsv\", \"r\", encoding=\"utf-8\", errors=\"replace\") as f:\n",
    "    cur.copy_expert(copy_sql, f)"
   ]
  },
  {
   "cell_type": "markdown",
   "id": "8d4f7b3d",
   "metadata": {},
   "source": [
    "## Table title_principals"
   ]
  },
  {
   "cell_type": "markdown",
   "id": "2cb71d56",
   "metadata": {},
   "source": [
    "### Create Table"
   ]
  },
  {
   "cell_type": "code",
   "execution_count": 9,
   "id": "7893b032",
   "metadata": {},
   "outputs": [],
   "source": [
    "def create_title_principals_table(conn):\n",
    "    with conn.cursor() as cur:\n",
    "        # Drop existing table\n",
    "        cur.execute(\"\"\"\n",
    "        DROP TABLE IF EXISTS public.title_principals;\n",
    "        \"\"\")\n",
    "        \n",
    "        # Create new table\n",
    "        cur.execute(\"\"\"\n",
    "        CREATE TABLE public.title_principals (\n",
    "            tconst VARCHAR(10),\n",
    "            ordering INTEGER,\n",
    "            nconst VARCHAR(10),\n",
    "            category VARCHAR(50),\n",
    "            job TEXT,\n",
    "            characters TEXT,\n",
    "            PRIMARY KEY (tconst, ordering)\n",
    "        );\n",
    "        \"\"\")\n",
    "\n",
    "create_title_principals_table(conn)"
   ]
  },
  {
   "cell_type": "markdown",
   "id": "130509a3",
   "metadata": {},
   "source": [
    "### Load data"
   ]
  },
  {
   "cell_type": "code",
   "execution_count": 10,
   "id": "f07eaf82",
   "metadata": {},
   "outputs": [],
   "source": [
    "copy_sql = r\"\"\"\n",
    "COPY public.title_principals (tconst, ordering, nconst, category, job, characters)\n",
    "FROM STDIN\n",
    "WITH (\n",
    "    FORMAT CSV,          \n",
    "    DELIMITER E'\\t',    \n",
    "    NULL '\\N',           \n",
    "    HEADER TRUE,       \n",
    "    QUOTE E'\\b'           -- See explanation in name_basics COPY command\n",
    ");\n",
    "\"\"\"\n",
    "\n",
    "with conn.cursor() as cur, open(r\"C:\\GIT projects\\IMDb\\archive\\title.principals.tsv\", \"r\", encoding=\"utf-8\", errors=\"replace\") as f:\n",
    "    cur.copy_expert(copy_sql, f)"
   ]
  },
  {
   "cell_type": "markdown",
   "id": "c00b404d",
   "metadata": {},
   "source": [
    "## Table title_ratings"
   ]
  },
  {
   "cell_type": "markdown",
   "id": "38482b1c",
   "metadata": {},
   "source": [
    "### Create Table"
   ]
  },
  {
   "cell_type": "code",
   "execution_count": 11,
   "id": "f1e89c9f",
   "metadata": {},
   "outputs": [],
   "source": [
    "def create_title_ratings_table(conn):\n",
    "    with conn.cursor() as cur:\n",
    "        # Drop existing table\n",
    "        cur.execute(\"\"\"\n",
    "        DROP TABLE IF EXISTS public.title_ratings;\n",
    "        \"\"\")\n",
    "        \n",
    "        # Create new table\n",
    "        cur.execute(\"\"\"\n",
    "        CREATE TABLE public.title_ratings (\n",
    "            tconst VARCHAR(10) PRIMARY KEY,\n",
    "            averagerating NUMERIC(3,1),\n",
    "            numvotes INTEGER\n",
    "        );\n",
    "        \"\"\")\n",
    "\n",
    "create_title_ratings_table(conn)"
   ]
  },
  {
   "cell_type": "markdown",
   "id": "6324b77d",
   "metadata": {},
   "source": [
    "### Load data"
   ]
  },
  {
   "cell_type": "code",
   "execution_count": 12,
   "id": "08856f08",
   "metadata": {},
   "outputs": [],
   "source": [
    "copy_sql = r\"\"\"\n",
    "COPY public.title_ratings (tconst, averagerating, numvotes)\n",
    "FROM STDIN\n",
    "WITH (\n",
    "    FORMAT CSV,           \n",
    "    DELIMITER E'\\t',     \n",
    "    NULL '\\N',           \n",
    "    HEADER TRUE,         \n",
    "    QUOTE E'\\b'           -- See explanation in name_basics COPY command\n",
    ");\n",
    "\"\"\"\n",
    "\n",
    "with conn.cursor() as cur, open(r\"C:\\GIT projects\\IMDb\\archive\\title.ratings.tsv\", \"r\", encoding=\"utf-8\", errors=\"replace\") as f:\n",
    "    cur.copy_expert(copy_sql, f)"
   ]
  },
  {
   "cell_type": "code",
   "execution_count": null,
   "id": "85aa5619",
   "metadata": {},
   "outputs": [],
   "source": [
    "if conn:\n",
    "    conn.close()\n",
    "    print(\"Database connection closed successfully\")"
   ]
  }
 ],
 "metadata": {
  "kernelspec": {
   "display_name": "Python 3",
   "language": "python",
   "name": "python3"
  },
  "language_info": {
   "codemirror_mode": {
    "name": "ipython",
    "version": 3
   },
   "file_extension": ".py",
   "mimetype": "text/x-python",
   "name": "python",
   "nbconvert_exporter": "python",
   "pygments_lexer": "ipython3",
   "version": "3.13.1"
  }
 },
 "nbformat": 4,
 "nbformat_minor": 5
}
